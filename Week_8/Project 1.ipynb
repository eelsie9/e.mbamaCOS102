{
 "cells": [
  {
   "cell_type": "code",
   "execution_count": 15,
   "id": "c7f675c4-066d-4c2b-acd1-f09d99e8c08c",
   "metadata": {},
   "outputs": [],
   "source": [
    "import tkinter as tk\n",
    "from tkinter import messagebox\n",
    "import random\n",
    "\n",
    "employees = [ \"Mary Evans\", \"Eyo Ishan\", \"Durojaiye Dare\", \"Adams Ali\", \"Andrew Ugwu\",\n",
    "    \"Stella Mankinde\", \"Jane Akibo\", \"Ago James\", \"Michell Taiwo\", \"Abraham Jones\",\n",
    "    \"Nicole Anide\", \"Kosi Korso\", \"Adele Martins\", \"Emmanuel Ojo\", \"Ajayi Fatima\"]\n",
    "\n",
    "tasks = [\"Loading\", \"Transporting\", \"Reviewing Orders\", \"Customer Service\", \"Delivering Items\"]\n",
    "\n",
    "class Employee():\n",
    "\n",
    "    def __init__(self, name):\n",
    "        self.name = name\n",
    "        \n",
    "    def check_employee(self):\n",
    "        return self.name in employees\n",
    "\n",
    "    def take_attendance(self):\n",
    "        return \"You have been marked present for today.\"\n",
    "        \n",
    "    def assign_task(self):\n",
    "        index = random.randint(0, len(tasks) - 1)\n",
    "        return f\"Your Assigned task for today: {tasks[index]}\"\n",
    "\n",
    "    def refuse_access(self):\n",
    "        return \"Oh, Sorry, you are not an employee of this organization.\"\n",
    "\n",
    "# GUI setup\n",
    "def submit_name():\n",
    "    name = entry.get().strip()\n",
    "    user = Employee(name)\n",
    "\n",
    "    if user.check_employee():\n",
    "        attendance_msg = user.take_attendance()\n",
    "        task_msg = user.assign_task()\n",
    "        messagebox.showinfo(\"Access Granted\", f\"{attendance_msg}\\n{task_msg}\")\n",
    "    else:\n",
    "        messagebox.showwarning(\"Access Denied\", user.refuse_access())\n",
    "\n",
    "# Creating GUI window\n",
    "window = tk.Tk()\n",
    "window.title(\"Employee Attendance and Task Assignment\")\n",
    "window.geometry(\"400x200\")\n",
    "\n",
    "label = tk.Label(window, text=\"Please enter your full name:\", font=(\"Arial\", 12))\n",
    "label.pack(pady=10)\n",
    "\n",
    "entry = tk.Entry(window, width=30)\n",
    "entry.pack(pady=5)\n",
    "\n",
    "submit_button = tk.Button(window, text=\"Submit\", command=submit_name)\n",
    "submit_button.pack(pady=20)\n",
    "\n",
    "window.mainloop()"
   ]
  },
  {
   "cell_type": "code",
   "execution_count": null,
   "id": "6adee318-706b-4208-837e-e26c3be87c43",
   "metadata": {},
   "outputs": [],
   "source": []
  }
 ],
 "metadata": {
  "kernelspec": {
   "display_name": "Python [conda env:base] *",
   "language": "python",
   "name": "conda-base-py"
  },
  "language_info": {
   "codemirror_mode": {
    "name": "ipython",
    "version": 3
   },
   "file_extension": ".py",
   "mimetype": "text/x-python",
   "name": "python",
   "nbconvert_exporter": "python",
   "pygments_lexer": "ipython3",
   "version": "3.12.7"
  }
 },
 "nbformat": 4,
 "nbformat_minor": 5
}

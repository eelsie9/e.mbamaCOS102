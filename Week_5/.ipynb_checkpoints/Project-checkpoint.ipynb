{
 "cells": [
  {
   "cell_type": "code",
   "execution_count": null,
   "id": "26ea8597-2574-4cf9-941f-bb1722345654",
   "metadata": {},
   "outputs": [],
   "source": [
    "import pandas as pd\n",
    "import tkinter as tk\n",
    "from tkinter import messagebox\n",
    "\n",
    "# Read the CSV file\n",
    "data = pd.read_csv('GIG-logistics.csv')\n",
    "\n",
    "def check_employee():\n",
    "    name = name_entry.get().strip()   # Get the name entered by user\n",
    "    department = dept_entry.get().strip()   # Get the department entered by user\n",
    "    \n",
    "    # Look for the employee\n",
    "    employee = data[\n",
    "        (data['Name'].str.lower() == name.lower()) &\n",
    "        (data['Department'].str.lower() == department.lower())\n",
    "    ]\n",
    "    \n",
    "    if not employee.empty:\n",
    "        # Found the person\n",
    "        welcome_message = f\"Welcome, {name}!\\n\\nOther members in {department} department:\"\n",
    "        others = data[\n",
    "            (data['Department'].str.lower() == department.lower()) &\n",
    "            (data['Name'].str.lower() != name.lower())\n",
    "        ]\n",
    "        other_names = others['Name'].tolist()\n",
    "        \n",
    "        result_label.config(text=welcome_message + \"\\n\" + \"\\n\".join(other_names))\n",
    "    else:\n",
    "        # Did not find the person\n",
    "        result_label.config(text=f\"Sorry, {name} does not exist in {department} department.\")\n",
    "\n",
    "root = tk.Tk()\n",
    "root.title(\"GIG Logistics Employee Checker\")\n",
    "\n",
    "# Label and box to type name\n",
    "tk.Label(root, text=\"Enter Name:\").pack(pady=5)\n",
    "name_entry = tk.Entry(root)\n",
    "name_entry.pack(pady=5)\n",
    "\n",
    "# Label and box to type department\n",
    "tk.Label(root, text=\"Enter Department:\").pack(pady=5)\n",
    "dept_entry = tk.Entry(root)\n",
    "dept_entry.pack(pady=5)\n",
    "\n",
    "# Button to check\n",
    "tk.Button(root, text=\"Check\", command=check_employee).pack(pady=10)\n",
    "\n",
    "# Label to show the result\n",
    "result_label = tk.Label(root, text=\"\", justify=\"left\")\n",
    "result_label.pack(pady=10)\n",
    "\n",
    "# Keep the window open\n",
    "root.mainloop()\n"
   ]
  },
  {
   "cell_type": "code",
   "execution_count": null,
   "id": "81930cc9-56b6-4fe4-86e8-b1631a5cbbc3",
   "metadata": {},
   "outputs": [],
   "source": []
  }
 ],
 "metadata": {
  "kernelspec": {
   "display_name": "Python [conda env:base] *",
   "language": "python",
   "name": "conda-base-py"
  },
  "language_info": {
   "codemirror_mode": {
    "name": "ipython",
    "version": 3
   },
   "file_extension": ".py",
   "mimetype": "text/x-python",
   "name": "python",
   "nbconvert_exporter": "python",
   "pygments_lexer": "ipython3",
   "version": "3.12.7"
  }
 },
 "nbformat": 4,
 "nbformat_minor": 5
}

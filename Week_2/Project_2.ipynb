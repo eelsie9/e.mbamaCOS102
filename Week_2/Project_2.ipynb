{
 "cells": [
  {
   "cell_type": "code",
   "execution_count": 21,
   "id": "708f7ca2-f40e-4131-a7d8-7d521587e027",
   "metadata": {},
   "outputs": [
    {
     "name": "stdout",
     "output_type": "stream",
     "text": [
      "Welcome to the Root of Equation Finder\n",
      "\n",
      "Choose the equation you want to create a code with by picking [1], [2] or [3]:\n",
      "1. Quadratic Equation (ax^2 + bx + c = 0) \n",
      "2. Cubic Equation (ax^3 + bx^2 + cx + d = 0) \n",
      "3. Quartic Equation (ax^4 + bx^3 + cx^2 + dx + e = 0) \n",
      "\n"
     ]
    },
    {
     "name": "stdin",
     "output_type": "stream",
     "text": [
      "Your selected number is:  2\n"
     ]
    },
    {
     "name": "stdout",
     "output_type": "stream",
     "text": [
      "\n",
      "You have selected 'Cubic Equation'\n"
     ]
    },
    {
     "name": "stdin",
     "output_type": "stream",
     "text": [
      "Enter coefficient of x^3, a:  2\n",
      "Enter coefficient x^2, b:  3\n",
      "Enter coefficient of x, c:  5\n",
      "Enter constant d:  6\n"
     ]
    },
    {
     "name": "stdout",
     "output_type": "stream",
     "text": [
      "The roots of the cubic equation: [-1.32361007978549, -0.088194960107255 - 1.50291389395507*I, -0.088194960107255 + 1.50291389395507*I]\n",
      "\n",
      "Thank you for using the Root of Equation Finder.\n"
     ]
    }
   ],
   "source": [
    "import sympy\n",
    "\n",
    "print (\"Welcome to the Root of Equation Finder\")\n",
    "print (\"\\nChoose the equation you want to create a code with by picking [1], [2] or [3]:\")\n",
    "print (\"1. Quadratic Equation (ax^2 + bx + c = 0) \\n2. Cubic Equation (ax^3 + bx^2 + cx + d = 0) \\n3. Quartic Equation (ax^4 + bx^3 + cx^2 + dx + e = 0) \\n\")\n",
    "choice = int(input(\"Your selected number is: \"))\n",
    "\n",
    "if choice == 1 :\n",
    "    print (\"\\nYou have selected 'Quadratic Equation'\")\n",
    "    a = float(input(\"Enter coefficient of x^2, a: \"))\n",
    "    b = float(input(\"Enter coefficient x, b: \"))\n",
    "    c = float(input(\"Enter constant c: \"))\n",
    "    \n",
    "    d = b**2 - (4*a*c)\n",
    "    if d >= 0:\n",
    "        root1 = (-b + (b**2 - (4*a*c))**0.5) / (2*a)\n",
    "        root2 = (-b - (b**2 - (4*a*c))**0.5) / (2*a)\n",
    "    else:\n",
    "        real_part = -b / (2*a)\n",
    "        imaginary_part = (abs(d))**0.5 / (2*a)\n",
    "        root1 = real_part + imaginary_part*1j\n",
    "        root2 = real_part - imaginary_part*1j\n",
    "    \n",
    "    print (\"The roots of the  quadratic equation are: \", root1, \"and\", root2)\n",
    "\n",
    "elif choice == 2 :\n",
    "    print (\"\\nYou have selected 'Cubic Equation'\")\n",
    "    a = float(input(\"Enter coefficient of x^3, a: \"))\n",
    "    b = float(input(\"Enter coefficient x^2, b: \"))\n",
    "    c = float(input(\"Enter coefficient of x, c: \"))\n",
    "    d = float(input(\"Enter constant d: \"))\n",
    "    \n",
    "    x = sympy.Symbol('x')\n",
    "    roots = sympy.solve(a*x**3 + b*x**2 + c*x + d, x)\n",
    "\n",
    "    print (\"The roots of the cubic equation:\", roots)\n",
    "\n",
    "elif choice == 3 :\n",
    "    print (\"\\nYou have selected 'Quartic Equation'\")\n",
    "    a = float(input(\"Enter coefficient of x^4, a: \"))\n",
    "    b = float(input(\"Enter coefficient x^3, b: \"))\n",
    "    c = float(input(\"Enter coefficient of x^2, c: \"))\n",
    "    d = float(input(\"Enter coefficient of x, d: \"))\n",
    "    e = float(input(\"Enter constant e: \"))\n",
    "\n",
    "    x = sympy.Symbol('x')\n",
    "    roots = sympy.solve(a*x**4 + b*x**3 + c*x**2 + d*x + e, x)\n",
    "\n",
    "    print (\"The roots of the quartic equation:\", roots)\n",
    "\n",
    "else: \n",
    "    print(\"Invalid input. Please choose either 1, 2, or 3\")\n",
    "\n",
    "print(\"\\nThank you for using the Root of Equation Finder.\")\n",
    "    "
   ]
  },
  {
   "cell_type": "code",
   "execution_count": null,
   "id": "225071cb-ecf0-45ba-a0fa-50384c8c65fa",
   "metadata": {},
   "outputs": [],
   "source": []
  }
 ],
 "metadata": {
  "kernelspec": {
   "display_name": "Python [conda env:base] *",
   "language": "python",
   "name": "conda-base-py"
  },
  "language_info": {
   "codemirror_mode": {
    "name": "ipython",
    "version": 3
   },
   "file_extension": ".py",
   "mimetype": "text/x-python",
   "name": "python",
   "nbconvert_exporter": "python",
   "pygments_lexer": "ipython3",
   "version": "3.12.7"
  }
 },
 "nbformat": 4,
 "nbformat_minor": 5
}

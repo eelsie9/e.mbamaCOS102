{
 "cells": [
  {
   "cell_type": "code",
   "execution_count": 97,
   "id": "c785685f-bf18-421e-bb2c-06bdc4071b36",
   "metadata": {},
   "outputs": [],
   "source": [
    "# A Program to DDocument the Consumption Categories of Cadbury Plc products and brands\n",
    "import pandas as pd\n",
    "   \n",
    "cadb_products = {'Segments':[\"Refreshment Beverage\", \"Refreshment Beverage\", \n",
    "                       \"Confectionery\", \"Confectionery\", \"Confectionery\",\n",
    "                       \"Intermediate Cocoa Products\", \"Intermediate Cocoa Products\", \"Intermediate Cocoa Products\", \"Intermediate Cocoa Products\"],\n",
    "        'Export':[\"Bournvita\", \"Hot Chocolate\",\n",
    "                  \"Tom Tom\", \"Tom Tom\", \"Buttermint\",\n",
    "                  \"Cocoa Powder\", \"cocoa butter\", \"cocoa liquor\", \"cocoa cake\"],\n",
    "        'Brands':[\"CADBURY BOURNVITA\", \"CADBURY 3-in-1 HOT CHOCOLATE\",\n",
    "                  \"TOMTOM CLASSIC\", \"TOMTOM STRAWBERRY\", \"BUTTERMINT\",\n",
    "                  \"COCOA POWDER\", \"COCOA BUTTER\", \"COCOA LIQUOR\", \"COCOA CAKE\"]}\n",
    "  \n",
    "df = pd.DataFrame(cadb_products)\n",
    "\n",
    "df.to_csv('cadbury_market.csv')"
   ]
  },
  {
   "cell_type": "code",
   "execution_count": null,
   "id": "a0f0e1a7-5c05-47cf-9493-d3ef8a6cc6ef",
   "metadata": {},
   "outputs": [],
   "source": []
  }
 ],
 "metadata": {
  "kernelspec": {
   "display_name": "Python [conda env:base] *",
   "language": "python",
   "name": "conda-base-py"
  },
  "language_info": {
   "codemirror_mode": {
    "name": "ipython",
    "version": 3
   },
   "file_extension": ".py",
   "mimetype": "text/x-python",
   "name": "python",
   "nbconvert_exporter": "python",
   "pygments_lexer": "ipython3",
   "version": "3.12.7"
  }
 },
 "nbformat": 4,
 "nbformat_minor": 5
}

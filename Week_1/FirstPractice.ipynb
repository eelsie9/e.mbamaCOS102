{
 "cells": [
  {
   "cell_type": "code",
   "execution_count": 1,
   "id": "aa68e2d7-9fa5-4158-92f6-b057916dbfbe",
   "metadata": {},
   "outputs": [
    {
     "name": "stdout",
     "output_type": "stream",
     "text": [
      "100\n",
      "Data Type of variable num is <class 'int'>\n",
      "34.45\n",
      "Data Type of variable fnum is <class 'float'>\n",
      "(3+4j)\n",
      "Data Type of variable cnum is <class 'complex'>\n"
     ]
    }
   ],
   "source": [
    "# Numeric Data Type\n",
    "# Integer Number\n",
    "num = 100\n",
    "print(num)\n",
    "print(\"Data Type of variable num is\", type(num))\n",
    "\n",
    "# float number\n",
    "fnum = 34.45\n",
    "print(fnum)\n",
    "print(\"Data Type of variable fnum is\", type (fnum))\n",
    "\n",
    "# complex number\n",
    "cnum = 3 + 4j\n",
    "print(cnum)\n",
    "print(\"Data Type of variable cnum is\", type(cnum))"
   ]
  },
  {
   "cell_type": "code",
   "execution_count": 3,
   "id": "7e59a0a0-e863-4fe1-a8de-d844e3a3faf3",
   "metadata": {},
   "outputs": [
    {
     "name": "stdout",
     "output_type": "stream",
     "text": [
      "Hi my name is Matthew. I am String\n",
      "<class 'str'>\n",
      "Hi my name is Precious. I am also a string\n",
      "<class 'str'>\n"
     ]
    }
   ],
   "source": [
    "#String Data Type\n",
    "# Python program to print strings and type\n",
    "str1 = \"Hi my name is Matthew. I am String\"\n",
    "str2 = 'Hi my name is Precious. I am also a string'\n",
    "\n",
    "# displaying string str1 an its type\n",
    "print(str1)\n",
    "print(type(str1))\n",
    "\n",
    "# displaying string str2 and its type\n",
    "print(str2)\n",
    "print(type(str2))"
   ]
  },
  {
   "cell_type": "code",
   "execution_count": null,
   "id": "3ce8c929-46fe-45f5-9209-ff18c876ee7d",
   "metadata": {},
   "outputs": [],
   "source": []
  }
 ],
 "metadata": {
  "kernelspec": {
   "display_name": "Python [conda env:base] *",
   "language": "python",
   "name": "conda-base-py"
  },
  "language_info": {
   "codemirror_mode": {
    "name": "ipython",
    "version": 3
   },
   "file_extension": ".py",
   "mimetype": "text/x-python",
   "name": "python",
   "nbconvert_exporter": "python",
   "pygments_lexer": "ipython3",
   "version": "3.12.7"
  }
 },
 "nbformat": 4,
 "nbformat_minor": 5
}

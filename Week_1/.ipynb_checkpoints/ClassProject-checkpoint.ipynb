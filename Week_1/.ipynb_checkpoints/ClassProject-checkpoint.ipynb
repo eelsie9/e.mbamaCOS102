{
 "cells": [
  {
   "cell_type": "code",
   "execution_count": 5,
   "id": "c7603f27-89f6-41bf-a623-adaf14f836a9",
   "metadata": {},
   "outputs": [
    {
     "name": "stdout",
     "output_type": "stream",
     "text": [
      "Welcome to the Interest Calculator!\n",
      "\n",
      "Choose what you wish to calculate by choosing between [1], [2] and [3] \n",
      "1. Simple Interest \n",
      "2. Compound Interest \n",
      "3. Annuity\n"
     ]
    },
    {
     "name": "stdin",
     "output_type": "stream",
     "text": [
      "\n",
      "Your selected number is:  1\n"
     ]
    },
    {
     "name": "stdout",
     "output_type": "stream",
     "text": [
      "\n",
      "You chose 'Simple Interest'\n"
     ]
    },
    {
     "name": "stdin",
     "output_type": "stream",
     "text": [
      "Enter the Principal (in Naira):  3000\n",
      "Enter the Time (in years):  4\n",
      "Enter the Rate (in percentage):  6\n"
     ]
    },
    {
     "name": "stdout",
     "output_type": "stream",
     "text": [
      "The Amount of Simple Interest:  3720.0\n",
      "\n",
      "Thank you for using the Interest Calculator\n"
     ]
    }
   ],
   "source": [
    "print(\"Welcome to the Interest Calculator!\")\n",
    "print(\"\\nChoose what you wish to calculate by choosing between [1], [2] and [3] \\n1. Simple Interest \\n2. Compound Interest \\n3. Annuity\")\n",
    "choice = int(input(\"\\nYour selected number is: \"))\n",
    "\n",
    "if choice == 1 :\n",
    "    print(\"\\nYou chose 'Simple Interest'\")\n",
    "    p = int(input(\"Enter the Principal (in Naira): \"))\n",
    "    t = int(input(\"Enter the Time (in years): \"))\n",
    "    r = int(input(\"Enter the Rate (in percentage): \"))\n",
    "    a = p * (1 + ((r/100)*t))\n",
    "    print(\"The Amount of Simple Interest: \", a)\n",
    "\n",
    "elif choice == 2 :\n",
    "    print(\"\\nYou chose 'Compound Interest'\")\n",
    "    p = int(input(\"Enter the Principal (in Naira): \"))\n",
    "    t = int(input(\"Enter the Time (in years): \"))\n",
    "    r = int(input(\"Enter the Rate (in percentage): \"))\n",
    "    n = int(input(\"Enter the number of times interest is compounded per year: \"))\n",
    "    a = p * (1 + ((r/100)/n)) ** (n * t)\n",
    "    print(\"The Amount of Compound Interest: \", a)\n",
    "\n",
    "elif choice == 3 :\n",
    "    print(\"\\nYou chose 'Annuity'\")\n",
    "    p = int(input(\"Enter your Periodic payment (in Naira): \"))\n",
    "    t = int(input(\"Enter the Time (in years): \"))\n",
    "    r = int(input(\"Enter the Rate (in percentage): \"))\n",
    "    n = int(input(\"Enter the number of times interest is compounded per year: \"))\n",
    "    a = p * ((((1 + ((r/100)/n)) ** (n * t)) - 1) / ((r/100)/n))\n",
    "    print(\"\\nThe Amount of Annuity: \", a)\n",
    "\n",
    "else :\n",
    "    print(\"Invalid input. Please choose either 1, 2, or 3\")\n",
    "\n",
    "print(\"\\nThank you for using the Interest Calculator\")"
   ]
  },
  {
   "cell_type": "code",
   "execution_count": null,
   "id": "3eb5b9a2-fed9-49d2-a411-5613d7a6362b",
   "metadata": {},
   "outputs": [],
   "source": []
  }
 ],
 "metadata": {
  "kernelspec": {
   "display_name": "Python [conda env:base] *",
   "language": "python",
   "name": "conda-base-py"
  },
  "language_info": {
   "codemirror_mode": {
    "name": "ipython",
    "version": 3
   },
   "file_extension": ".py",
   "mimetype": "text/x-python",
   "name": "python",
   "nbconvert_exporter": "python",
   "pygments_lexer": "ipython3",
   "version": "3.12.7"
  }
 },
 "nbformat": 4,
 "nbformat_minor": 5
}

{
 "cells": [
  {
   "cell_type": "code",
   "execution_count": 3,
   "id": "0aca917e-5d2b-4a7d-94ee-e84bdb3199f4",
   "metadata": {},
   "outputs": [
    {
     "name": "stdout",
     "output_type": "stream",
     "text": [
      "Izifin Technology Annual Tax Revenue (ATR) Calculator\n"
     ]
    },
    {
     "name": "stdin",
     "output_type": "stream",
     "text": [
      "What is your name? \n",
      " Elsie Mbama\n",
      "How old are you? \n",
      " 50\n",
      "How many years of work experience do you have at Izifin Technology? \n",
      " 22\n"
     ]
    },
    {
     "name": "stdout",
     "output_type": "stream",
     "text": [
      "\n",
      " Calculating ATR...\n",
      "\n",
      " Your ATR is N4,480,000 Elsie Mbama\n"
     ]
    }
   ],
   "source": [
    "print(\"Izifin Technology Annual Tax Revenue (ATR) Calculator\")\n",
    "\n",
    "name = input(\"What is your name? \\n\")\n",
    "age = int(input(\"How old are you? \\n\"))\n",
    "work_exp = int(input(\"How many years of work experience do you have at Izifin Technology? \\n\"))\n",
    "\n",
    "if work_exp > 25 and age >= 55 :\n",
    "    print(\"\\n Calculating ATR...\")\n",
    "    print(\"\\n Your ATR is N5,600,000\", name)\n",
    "\n",
    "elif work_exp > 20 and age >= 45 :\n",
    "    print(\"\\n Calculating ATR...\")\n",
    "    print(\"\\n Your ATR is N4,480,000\", name)\n",
    "\n",
    "elif work_exp > 10 and age >= 35 :\n",
    "    print(\"\\n Calculating ATR...\")\n",
    "    print(\"\\n Your ATR is N1,500,000\", name)\n",
    "\n",
    "elif work_exp < 10 and age < 35 :\n",
    "    print(\"\\n Calculating ATR...\")\n",
    "    print(\"\\n Your ATR is N550,000\", name)\n",
    "\n",
    "else :\n",
    "    print(\"\\n Please enter an appropriate age/years of experience.\")\n",
    "    \n"
   ]
  },
  {
   "cell_type": "code",
   "execution_count": null,
   "id": "f59babdb-aff7-4f3d-845e-f95d55e2dc2d",
   "metadata": {},
   "outputs": [],
   "source": []
  }
 ],
 "metadata": {
  "kernelspec": {
   "display_name": "Python [conda env:base] *",
   "language": "python",
   "name": "conda-base-py"
  },
  "language_info": {
   "codemirror_mode": {
    "name": "ipython",
    "version": 3
   },
   "file_extension": ".py",
   "mimetype": "text/x-python",
   "name": "python",
   "nbconvert_exporter": "python",
   "pygments_lexer": "ipython3",
   "version": "3.12.7"
  }
 },
 "nbformat": 4,
 "nbformat_minor": 5
}
